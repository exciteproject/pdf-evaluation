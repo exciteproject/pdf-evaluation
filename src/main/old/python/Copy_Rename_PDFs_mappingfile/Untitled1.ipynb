{
 "cells": [
  {
   "cell_type": "code",
   "execution_count": 1,
   "metadata": {
    "collapsed": true
   },
   "outputs": [],
   "source": [
    "import pandas as pd"
   ]
  },
  {
   "cell_type": "code",
   "execution_count": 12,
   "metadata": {
    "collapsed": false
   },
   "outputs": [],
   "source": [
    "data = pd.read_csv(\"./Book1.csv\")"
   ]
  },
  {
   "cell_type": "code",
   "execution_count": 14,
   "metadata": {
    "collapsed": true
   },
   "outputs": [],
   "source": [
    "data=data.as_matrix()"
   ]
  },
  {
   "cell_type": "code",
   "execution_count": 45,
   "metadata": {
    "collapsed": false
   },
   "outputs": [],
   "source": [
    "import os\n",
    "import shutil\n",
    "\n",
    "srcfile = '/PROJECTS/EXCITE.DFG/PDF/'\n",
    "dstroot = '/maped_file'\n",
    "\n",
    "listr=[]\n",
    "for item in data:\n",
    "    temp=item[0].split(';')\n",
    "    sr1=srcfile+temp[0].replace('\\\\','/')+'/'+temp[1]\n",
    "    dr1=dstroot+'/'+temp[1]\n",
    "    dr2=dstroot+'/'+temp[2]\n",
    "\n",
    "    shutil.copy(sr1, dstroot)\n",
    "    os.rename(dr1,dr2)\n",
    "    listr.append(temp)\n",
    "    \n",
    "    "
   ]
  }
 ],
 "metadata": {
  "anaconda-cloud": {},
  "kernelspec": {
   "display_name": "Python [conda root]",
   "language": "python",
   "name": "conda-root-py"
  },
  "language_info": {
   "codemirror_mode": {
    "name": "ipython",
    "version": 2
   },
   "file_extension": ".py",
   "mimetype": "text/x-python",
   "name": "python",
   "nbconvert_exporter": "python",
   "pygments_lexer": "ipython2",
   "version": "2.7.13"
  }
 },
 "nbformat": 4,
 "nbformat_minor": 1
}
